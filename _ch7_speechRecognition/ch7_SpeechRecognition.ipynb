{
 "cells": [
  {
   "cell_type": "code",
   "execution_count": 1,
   "metadata": {
    "collapsed": true
   },
   "outputs": [],
   "source": [
    "import numpy as np\n",
    "import matplotlib.pyplot as plt\n",
    "from scipy.io import wavfile"
   ]
  },
  {
   "cell_type": "code",
   "execution_count": 10,
   "metadata": {
    "collapsed": true
   },
   "outputs": [],
   "source": [
    "# Read the input file\n",
    "sampling_freq, audio = wavfile.read('input_read.wav')"
   ]
  },
  {
   "cell_type": "code",
   "execution_count": 11,
   "metadata": {
    "collapsed": false
   },
   "outputs": [
    {
     "data": {
      "text/plain": [
       "array([ -3893, -18346, -10040, ...,  20294,  30307,   9682], dtype=int16)"
      ]
     },
     "execution_count": 11,
     "metadata": {},
     "output_type": "execute_result"
    }
   ],
   "source": [
    "audio"
   ]
  },
  {
   "cell_type": "code",
   "execution_count": 12,
   "metadata": {
    "collapsed": false
   },
   "outputs": [
    {
     "data": {
      "text/plain": [
       "['__abs__',\n",
       " '__add__',\n",
       " '__and__',\n",
       " '__class__',\n",
       " '__cmp__',\n",
       " '__coerce__',\n",
       " '__delattr__',\n",
       " '__div__',\n",
       " '__divmod__',\n",
       " '__doc__',\n",
       " '__float__',\n",
       " '__floordiv__',\n",
       " '__format__',\n",
       " '__getattribute__',\n",
       " '__getnewargs__',\n",
       " '__hash__',\n",
       " '__hex__',\n",
       " '__index__',\n",
       " '__init__',\n",
       " '__int__',\n",
       " '__invert__',\n",
       " '__long__',\n",
       " '__lshift__',\n",
       " '__mod__',\n",
       " '__mul__',\n",
       " '__neg__',\n",
       " '__new__',\n",
       " '__nonzero__',\n",
       " '__oct__',\n",
       " '__or__',\n",
       " '__pos__',\n",
       " '__pow__',\n",
       " '__radd__',\n",
       " '__rand__',\n",
       " '__rdiv__',\n",
       " '__rdivmod__',\n",
       " '__reduce__',\n",
       " '__reduce_ex__',\n",
       " '__repr__',\n",
       " '__rfloordiv__',\n",
       " '__rlshift__',\n",
       " '__rmod__',\n",
       " '__rmul__',\n",
       " '__ror__',\n",
       " '__rpow__',\n",
       " '__rrshift__',\n",
       " '__rshift__',\n",
       " '__rsub__',\n",
       " '__rtruediv__',\n",
       " '__rxor__',\n",
       " '__setattr__',\n",
       " '__sizeof__',\n",
       " '__str__',\n",
       " '__sub__',\n",
       " '__subclasshook__',\n",
       " '__truediv__',\n",
       " '__trunc__',\n",
       " '__xor__',\n",
       " 'bit_length',\n",
       " 'conjugate',\n",
       " 'denominator',\n",
       " 'imag',\n",
       " 'numerator',\n",
       " 'real']"
      ]
     },
     "execution_count": 12,
     "metadata": {},
     "output_type": "execute_result"
    }
   ],
   "source": [
    "#dir(audio)\n",
    "dir(sampling_freq)"
   ]
  },
  {
   "cell_type": "code",
   "execution_count": 13,
   "metadata": {
    "collapsed": false
   },
   "outputs": [
    {
     "name": "stdout",
     "output_type": "stream",
     "text": [
      "\n",
      "Shape: (132300,)\n",
      "Datatype: int16\n",
      "Sampling Frequency: 44100.0\n",
      "Duration: 3.0 seconds\n"
     ]
    }
   ],
   "source": [
    "# Print the params\n",
    "print '\\nShape:', audio.shape\n",
    "print 'Datatype:', audio.dtype\n",
    "print 'Sampling Frequency:', float(sampling_freq)\n",
    "print 'Duration:', round(audio.shape[0] / float(sampling_freq),3), 'seconds'"
   ]
  },
  {
   "cell_type": "markdown",
   "metadata": {},
   "source": [
    "# Normalize the values\n",
    "The audio signal is stored as 16-bit signed integer data. We need to normalize\n",
    "these values:"
   ]
  },
  {
   "cell_type": "code",
   "execution_count": 14,
   "metadata": {
    "collapsed": false
   },
   "outputs": [
    {
     "data": {
      "text/plain": [
       "132300"
      ]
     },
     "execution_count": 14,
     "metadata": {},
     "output_type": "execute_result"
    }
   ],
   "source": [
    "audio = audio / (2.**15)\n",
    "len(audio)"
   ]
  },
  {
   "cell_type": "code",
   "execution_count": 15,
   "metadata": {
    "collapsed": false
   },
   "outputs": [
    {
     "data": {
      "text/plain": [
       "array([-0.11880493, -0.55987549, -0.30639648, ...,  0.61932373,\n",
       "        0.92489624,  0.29547119])"
      ]
     },
     "execution_count": 15,
     "metadata": {},
     "output_type": "execute_result"
    }
   ],
   "source": [
    "audio"
   ]
  },
  {
   "cell_type": "code",
   "execution_count": 16,
   "metadata": {
    "collapsed": false
   },
   "outputs": [
    {
     "data": {
      "text/plain": [
       "32768.0"
      ]
     },
     "execution_count": 16,
     "metadata": {},
     "output_type": "execute_result"
    }
   ],
   "source": [
    "2.**15"
   ]
  },
  {
   "cell_type": "markdown",
   "metadata": {},
   "source": [
    "# Extract first 30 values for plotting"
   ]
  },
  {
   "cell_type": "code",
   "execution_count": 17,
   "metadata": {
    "collapsed": true
   },
   "outputs": [],
   "source": [
    "audio = audio[:30]"
   ]
  },
  {
   "cell_type": "code",
   "execution_count": 18,
   "metadata": {
    "collapsed": true
   },
   "outputs": [],
   "source": [
    "# Build the time axis"
   ]
  },
  {
   "cell_type": "code",
   "execution_count": 23,
   "metadata": {
    "collapsed": false
   },
   "outputs": [],
   "source": [
    "x_values = np.arange(0, len(audio), 1) / float(sampling_freq)"
   ]
  },
  {
   "cell_type": "code",
   "execution_count": 24,
   "metadata": {
    "collapsed": true
   },
   "outputs": [],
   "source": [
    "# Convert to milliseconds\n",
    "x_values *= 1000"
   ]
  },
  {
   "cell_type": "code",
   "execution_count": 27,
   "metadata": {
    "collapsed": false
   },
   "outputs": [
    {
     "data": {
      "image/png": "[encoded data removed]",
      "text/plain": [
       "<matplotlib.figure.Figure at 0x7fd4b9029cd0>"
      ]
     },
     "metadata": {},
     "output_type": "display_data"
    }
   ],
   "source": [
    "# Plotting the chopped audio signal\n",
    "%matplotlib inline\n",
    "plt.plot(x_values, audio, color='black')\n",
    "plt.xlabel('Time (ms)')\n",
    "plt.ylabel('Amplitude')\n",
    "plt.title('Audio signal')\n",
    "plt.show()"
   ]
  },
  {
   "cell_type": "markdown",
   "metadata": {},
   "source": [
    "# Transforming audio signals into the frequency domain\n",
    "\n",
    "Audio signals consist of a complex mixture of sine waves of different frequencies,\n",
    "amplitudes, and phases. Sine waves are also referred to as sinusoids. There is a\n",
    "lot of information that is hidden in the frequency content of an audio signal. In fact,\n",
    "an audio signal is heavily characterized by its frequency content. The whole world of\n",
    "speech and music is based on this fact. Before you proceed further, you will need some\n",
    "knowledge about Fourier transforms. A quick refresher can be found at http://www.thefouriertransform.com"
   ]
  },
  {
   "cell_type": "code",
   "execution_count": 28,
   "metadata": {
    "collapsed": true
   },
   "outputs": [],
   "source": [
    "import numpy as np\n",
    "from scipy.io import wavfile\n",
    "import matplotlib.pyplot as plt"
   ]
  },
  {
   "cell_type": "code",
   "execution_count": 30,
   "metadata": {
    "collapsed": false
   },
   "outputs": [],
   "source": [
    "# Read the input file\n",
    "sampling_freq, audio = wavfile.read('input_freq.wav')"
   ]
  },
  {
   "cell_type": "code",
   "execution_count": 31,
   "metadata": {
    "collapsed": true
   },
   "outputs": [],
   "source": [
    "# Normalize the values\n",
    "audio = audio / (2.**15)"
   ]
  },
  {
   "cell_type": "markdown",
   "metadata": {},
   "source": [
    "### The audio signal is just a NumPy array. So, you can extract the length using the following code:"
   ]
  },
  {
   "cell_type": "code",
   "execution_count": 41,
   "metadata": {
    "collapsed": true
   },
   "outputs": [],
   "source": [
    "# Extract length\n",
    "len_audio = len(audio)"
   ]
  },
  {
   "cell_type": "markdown",
   "metadata": {},
   "source": [
    "Let's apply the Fourier transform. The Fourier transform signal is mirrored along the\n",
    "center, so we just need to take the first half of the transformed signal. Our end goal\n",
    "is to extract the power signal. So, we square the values in the signal in preparation\n",
    "for this:"
   ]
  },
  {
   "cell_type": "code",
   "execution_count": 46,
   "metadata": {
    "collapsed": false
   },
   "outputs": [],
   "source": [
    "# Apply Fourier transform\n",
    "transformed_signal = np.fft.fft(audio)\n"
   ]
  },
  {
   "cell_type": "code",
   "execution_count": 48,
   "metadata": {
    "collapsed": true
   },
   "outputs": [],
   "source": [
    "half_length = int(np.ceil((len_audio + 1) / 2.0))\n",
    "transformed_signal = abs(transformed_signal[0:half_length])\n",
    "transformed_signal /= float(len_audio)\n",
    "transformed_signal **= 2"
   ]
  },
  {
   "cell_type": "code",
   "execution_count": 47,
   "metadata": {
    "collapsed": false
   },
   "outputs": [
    {
     "data": {
      "text/plain": [
       "4.0"
      ]
     },
     "execution_count": 47,
     "metadata": {},
     "output_type": "execute_result"
    }
   ],
   "source": [
    "np.ceil(3.05)"
   ]
  },
  {
   "cell_type": "code",
   "execution_count": 45,
   "metadata": {
    "collapsed": false
   },
   "outputs": [],
   "source": [
    "# Extract length of transformed signal\n",
    "len_ts = len(transformed_signal)"
   ]
  },
  {
   "cell_type": "code",
   "execution_count": 50,
   "metadata": {
    "collapsed": false
   },
   "outputs": [],
   "source": [
    "# Take care of even/odd cases\n",
    "if len_audio % 2:\n",
    "    transformed_signal[1:len_ts] *= 2\n",
    "else:\n",
    "    transformed_signal[1:len_ts-1] *= 2"
   ]
  },
  {
   "cell_type": "code",
   "execution_count": 51,
   "metadata": {
    "collapsed": true
   },
   "outputs": [],
   "source": [
    "# Extract power in dB\n",
    "power = 10 * np.log10(transformed_signal)"
   ]
  },
  {
   "cell_type": "code",
   "execution_count": 53,
   "metadata": {
    "collapsed": false
   },
   "outputs": [],
   "source": [
    "# Build the time axis\n",
    "x_values = np.arange(0, half_length, 1) * (sampling_freq / len_audio) / 1000.0"
   ]
  },
  {
   "cell_type": "code",
   "execution_count": 54,
   "metadata": {
    "collapsed": false
   },
   "outputs": [
    {
     "data": {
      "image/png": "[encoded data removed]",
      "text/plain": [
       "<matplotlib.figure.Figure at 0x7fd4b869a190>"
      ]
     },
     "metadata": {},
     "output_type": "display_data"
    }
   ],
   "source": [
    "# Plot the figure\n",
    "plt.figure()\n",
    "plt.plot(x_values, power, color='black')\n",
    "plt.xlabel('Freq (in kHz)')\n",
    "plt.ylabel('Power (in dB)')\n",
    "plt.show()"
   ]
  },
  {
   "cell_type": "markdown",
   "metadata": {},
   "source": []
  },
  {
   "cell_type": "code",
   "execution_count": 57,
   "metadata": {
    "collapsed": false
   },
   "outputs": [
    {
     "data": {
      "image/png": "[encoded data removed]",
      "text/plain": [
       "<matplotlib.figure.Figure at 0x7fd4b8683650>"
      ]
     },
     "metadata": {},
     "output_type": "display_data"
    }
   ],
   "source": [
    "# Plot the figure\n",
    "plt.figure()\n",
    "plt.plot(x_values, transformed_signal, color='black')\n",
    "plt.xlabel('Freq (in kHz)')\n",
    "plt.ylabel('G(f)')\n",
    "plt.show()"
   ]
  },
  {
   "cell_type": "markdown",
   "metadata": {},
   "source": [
    "# Generating audio signals with custom parameters"
   ]
  },
  {
   "cell_type": "code",
   "execution_count": 87,
   "metadata": {
    "collapsed": true
   },
   "outputs": [],
   "source": [
    "import numpy as np\n",
    "import matplotlib.pyplot as plt\n",
    "from scipy.io.wavfile import write\n"
   ]
  },
  {
   "cell_type": "code",
   "execution_count": 88,
   "metadata": {
    "collapsed": true
   },
   "outputs": [],
   "source": [
    "output_file='output_generated.wav'"
   ]
  },
  {
   "cell_type": "markdown",
   "metadata": {},
   "source": [
    "*\t Let's specify the audio generation parameters. We want to generate a three-second\n",
    "long signal with a sampling frequency of 44100 and a tonal frequency of 587 Hz.\n",
    "The values on the time axis will go from -2*pi to 2*pi:"
   ]
  },
  {
   "cell_type": "code",
   "execution_count": 96,
   "metadata": {
    "collapsed": true
   },
   "outputs": [],
   "source": [
    "#audio paramethers\n",
    "duration = 3 # seconds\n",
    "sampling_freq = 44100 #Hz\n",
    "tone_freq = 588\n",
    "min_val = -2 * np.pi\n",
    "max_val = 2 * np.pi\n",
    "\n"
   ]
  },
  {
   "cell_type": "markdown",
   "metadata": {},
   "source": [
    "* Let's generate the time axis and the audio signal. The audio signal is a simple\n",
    "sinusoid with the previously mentioned parameters:"
   ]
  },
  {
   "cell_type": "code",
   "execution_count": 97,
   "metadata": {
    "collapsed": true
   },
   "outputs": [],
   "source": [
    "#Generate audio\n",
    "t = np.linspace(min_val, max_val, duration * sampling_freq)\n",
    "audio = np.sin(2 * np.pi * tone_freq * t)\n"
   ]
  },
  {
   "cell_type": "code",
   "execution_count": 98,
   "metadata": {
    "collapsed": false
   },
   "outputs": [],
   "source": [
    "#Add some noise\n",
    "noise = 0.4 * np.random.rand(duration*sampling_freq)\n",
    "audio += noise"
   ]
  },
  {
   "cell_type": "code",
   "execution_count": 99,
   "metadata": {
    "collapsed": true
   },
   "outputs": [],
   "source": [
    "#Scale audio to 16-bit integers\n",
    "scaling_factor=pow(2,15)-1\n",
    "audio_normalized=audio/np.max(np.abs(audio))\n",
    "audio_scaled=np.int16(audio_normalized*scaling_factor)\n"
   ]
  },
  {
   "cell_type": "code",
   "execution_count": 100,
   "metadata": {
    "collapsed": true
   },
   "outputs": [],
   "source": [
    "#Write to output file\n",
    "write(output_file, sampling_freq, audio_scaled)"
   ]
  },
  {
   "cell_type": "code",
   "execution_count": 101,
   "metadata": {
    "collapsed": false
   },
   "outputs": [
    {
     "data": {
      "image/png": "[encoded data removed]",
      "text/plain": [
       "<matplotlib.figure.Figure at 0x7fd4b869ad10>"
      ]
     },
     "metadata": {},
     "output_type": "display_data"
    }
   ],
   "source": [
    "#plot first 100 values\n",
    "audio=audio[:100]\n",
    "x_values=np.arange(0, len(audio),1)/float(sampling_freq)\n",
    "x_values *= 1000\n",
    "# plotting the chopped audio\n",
    "plt.plot(x_values, audio, color='black')\n",
    "plt.xlabel('Time (ms)')\n",
    "plt.ylabel('Amplitude')\n",
    "plt.title('Audio signal')\n",
    "plt.show()"
   ]
  },
  {
   "cell_type": "code",
   "execution_count": null,
   "metadata": {
    "collapsed": true
   },
   "outputs": [],
   "source": []
  },
  {
   "cell_type": "markdown",
   "metadata": {},
   "source": [
    "# Synthesizing music\n",
    "Now that we know how to generate audio, let's use this principle to synthesize some music.\n",
    "You can check out this link, http://www.phy.mtu.edu/~suits/notefreqs.html . This\n",
    "link lists various notes, such as A, G, D, and so on, along with their corresponding frequencies.\n",
    "We will use this to generate some simple music."
   ]
  },
  {
   "cell_type": "code",
   "execution_count": 103,
   "metadata": {
    "collapsed": false
   },
   "outputs": [],
   "source": [
    "import json\n",
    "import numpy as np\n",
    "from scipy.io.wavfile import write\n",
    "import matplotlib.pyplot as plt"
   ]
  },
  {
   "cell_type": "code",
   "execution_count": 115,
   "metadata": {
    "collapsed": true
   },
   "outputs": [],
   "source": [
    "#Synthesize tone\n",
    "def synthesizer(freq, duration, amp=1.0, sampling_freq=44110):\n",
    "    #Build the time axis\n",
    "    t = np.linspace(0, duration, duration*sampling_freq)\n",
    "    audio = amp * np.sin(2*np.pi*freq*t)\n",
    "    return audio.astype(np.int16)"
   ]
  },
  {
   "cell_type": "code",
   "execution_count": 116,
   "metadata": {
    "collapsed": false
   },
   "outputs": [],
   "source": [
    "if __name__ == '__main__':\n",
    "    tone_map_file = 'tone_freq_map.json'"
   ]
  },
  {
   "cell_type": "code",
   "execution_count": 117,
   "metadata": {
    "collapsed": false
   },
   "outputs": [],
   "source": [
    "with open(tone_map_file, 'r') as f:\n",
    "    tone_freq_map = json.loads(f.read())\n"
   ]
  },
  {
   "cell_type": "markdown",
   "metadata": {},
   "source": [
    "## Let's assume that we want to generate a G note for a duration of 2 seconds:"
   ]
  },
  {
   "cell_type": "code",
   "execution_count": 118,
   "metadata": {
    "collapsed": false
   },
   "outputs": [],
   "source": [
    "input_tone = 'G'\n",
    "duration = 2\n",
    "amplitude = 10000\n",
    "sampling_freq = 44100"
   ]
  },
  {
   "cell_type": "code",
   "execution_count": 119,
   "metadata": {
    "collapsed": false
   },
   "outputs": [],
   "source": [
    "#Generate tone\n",
    "synthesized_tone = synthesizer(tone_freq_map[input_tone], duration, amplitude, sampling_freq)"
   ]
  },
  {
   "cell_type": "code",
   "execution_count": 120,
   "metadata": {
    "collapsed": false
   },
   "outputs": [],
   "source": [
    "#write to output file\n",
    "write('output_tone.wav', sampling_freq, synthesized_tone)\n"
   ]
  },
  {
   "cell_type": "markdown",
   "metadata": {},
   "source": [
    "* Open this file in a media player and listen to it. That's the G note! Let's do something more interesting. Let's generate some notes in sequence to give it a musical feel. Define a note sequence along with their durations in seconds:"
   ]
  },
  {
   "cell_type": "code",
   "execution_count": 121,
   "metadata": {
    "collapsed": true
   },
   "outputs": [],
   "source": [
    "tone_seq = [('D', 0.3), ('G', 0.6), ('C', 0.5), ('A', 0.3),('Asharp', 0.7)]"
   ]
  },
  {
   "cell_type": "code",
   "execution_count": 122,
   "metadata": {
    "collapsed": false
   },
   "outputs": [
    {
     "name": "stderr",
     "output_type": "stream",
     "text": [
      "/usr/local/lib/python2.7/dist-packages/ipykernel/__main__.py:4: DeprecationWarning: object of type <type 'float'> cannot be safely interpreted as an integer.\n"
     ]
    }
   ],
   "source": [
    "# Construct the audio signal based on the chord sequence\n",
    "output = np.array([])\n",
    "for item in tone_seq:\n",
    "    input_tone= item[0]\n",
    "    duration = item[1]\n",
    "    synthesized_tone = synthesizer(tone_freq_map[input_tone], duration, amplitude, sampling_freq)\n",
    "    output = np.append(output, synthesized_tone, axis=0)"
   ]
  },
  {
   "cell_type": "code",
   "execution_count": 123,
   "metadata": {
    "collapsed": true
   },
   "outputs": [],
   "source": [
    "write('output_tone_seq.wav', sampling_freq, output)"
   ]
  },
  {
   "cell_type": "markdown",
   "metadata": {},
   "source": [
    "# Extracting frequency domain features\n",
    "We discussed earlier how to convert a signal into the frequency domain. In most modern\n",
    "speech recognition systems, people use frequency-domain features. After you convert a signal\n",
    "into the frequency domain, you need to convert it into a usable form. Mel Frequency Cepstral\n",
    "Coefficients (MFCC) is a good way to do this. MFCC takes the power spectrum of a signal\n",
    "and then uses a combination of filter banks and discrete cosine transform to extract features.\n",
    "If you need a quick refresher, you can check out http://practicalcryptography.\n",
    "com/miscellaneous/machine-learning/guide-mel-frequency-cepstral-\n",
    "coefficients-mfccs . Make sure that the python_speech_features package is\n",
    "installed before you start. You can find the installation instructions at http://python-speech-features.readthedocs.org/en/latest . Let's take a look at how to extract\n",
    "MFCC features."
   ]
  },
  {
   "cell_type": "code",
   "execution_count": 3,
   "metadata": {
    "collapsed": false
   },
   "outputs": [],
   "source": [
    "import numpy as np\n",
    "import matplotlib.pyplot as plt\n",
    "from scipy.io import wavfile\n",
    "from python_speech_features import mfcc, logfbank"
   ]
  },
  {
   "cell_type": "code",
   "execution_count": 4,
   "metadata": {
    "collapsed": false
   },
   "outputs": [],
   "source": [
    "sampling_freq, audio = wavfile.read('input_freq.wav')\n"
   ]
  },
  {
   "cell_type": "code",
   "execution_count": 5,
   "metadata": {
    "collapsed": true
   },
   "outputs": [],
   "source": [
    "# Extract MFCC and filter bank features\n",
    "mfcc_features = mfcc(audio, sampling_freq)\n",
    "filterbank_features = logfbank(audio, sampling_freq)"
   ]
  },
  {
   "cell_type": "code",
   "execution_count": 6,
   "metadata": {
    "collapsed": false
   },
   "outputs": [
    {
     "name": "stdout",
     "output_type": "stream",
     "text": [
      "\n",
      "MFCC: \n",
      "Number of windows = 40\n",
      "\n",
      "Length of each feature = 13\n",
      "\n",
      "Filter bank:\n",
      "Number of windows = 40\n",
      "Length of each feature = 26\n"
     ]
    }
   ],
   "source": [
    "# Print parameters to see how many windows were generated\n",
    "print '\\nMFCC: \\nNumber of windows =', mfcc_features.shape[0]\n",
    "print '\\nLength of each feature =', mfcc_features.shape[1]\n",
    "print '\\nFilter bank:\\nNumber of windows =', filterbank_features.shape[0]\n",
    "print 'Length of each feature =', filterbank_features.shape[1]"
   ]
  },
  {
   "cell_type": "code",
   "execution_count": 10,
   "metadata": {
    "collapsed": false
   },
   "outputs": [
    {
     "data": {
      "image/png": "[encoded data removed]",
      "text/plain": [
       "<matplotlib.figure.Figure at 0x7f5f4382b890>"
      ]
     },
     "metadata": {},
     "output_type": "display_data"
    }
   ],
   "source": [
    "#Plot the features\n",
    "mfcc_features = mfcc_features.T\n",
    "plt.matshow(mfcc_features)\n",
    "plt.title('MFCC')\n",
    "plt.show()"
   ]
  },
  {
   "cell_type": "code",
   "execution_count": 9,
   "metadata": {
    "collapsed": false
   },
   "outputs": [
    {
     "data": {
      "image/png": "[encoded data removed]",
      "text/plain": [
       "<matplotlib.figure.Figure at 0x7f5f46881ed0>"
      ]
     },
     "metadata": {},
     "output_type": "display_data"
    }
   ],
   "source": [
    "%matplotlib inline\n",
    "filterbank_features=filterbank_features.T\n",
    "plt.matshow(filterbank_features)\n",
    "plt.title('Filter bank')\n",
    "plt.show()"
   ]
  },
  {
   "cell_type": "code",
   "execution_count": null,
   "metadata": {
    "collapsed": true
   },
   "outputs": [],
   "source": []
  }
 ],
 "metadata": {
  "kernelspec": {
   "display_name": "Python 2",
   "language": "python",
   "name": "python2"
  },
  "language_info": {
   "codemirror_mode": {
    "name": "ipython",
    "version": 2
   },
   "file_extension": ".py",
   "mimetype": "text/x-python",
   "name": "python",
   "nbconvert_exporter": "python",
   "pygments_lexer": "ipython2",
   "version": "2.7.6"
  }
 },
 "nbformat": 4,
 "nbformat_minor": 0
}
